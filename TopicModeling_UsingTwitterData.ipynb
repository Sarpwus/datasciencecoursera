{
  "nbformat": 4,
  "nbformat_minor": 0,
  "metadata": {
    "colab": {
      "name": "TopicModeling_UsingTwitterData.ipynb",
      "provenance": [],
      "collapsed_sections": [
        "06TyV-0SNBSA",
        "R5JJnFc6-pZD",
        "3c1WCmdQIsjU"
      ],
      "include_colab_link": true
    },
    "kernelspec": {
      "name": "python3",
      "display_name": "Python 3"
    },
    "language_info": {
      "name": "python"
    }
  },
  "cells": [
    {
      "cell_type": "markdown",
      "metadata": {
        "id": "view-in-github",
        "colab_type": "text"
      },
      "source": [
        "<a href=\"https://colab.research.google.com/github/Sarpwus/datasciencecoursera/blob/master/TopicModeling_UsingTwitterData.ipynb\" target=\"_parent\"><img src=\"https://colab.research.google.com/assets/colab-badge.svg\" alt=\"Open In Colab\"/></a>"
      ]
    },
    {
      "cell_type": "markdown",
      "metadata": {
        "id": "8_HXqdtfqzAL"
      },
      "source": [
        "#**Topic Modeling of Tweets via Unsupervised Approach using the LDA Algorithm**"
      ]
    },
    {
      "cell_type": "markdown",
      "metadata": {
        "id": "V8G8bm1mNDRm"
      },
      "source": [
        "Learning guide from:\n",
        "\n",
        "\n",
        "*   Data Science with Raghav: https://github.com/raaga500/YTshared/blob/master/V4_TopicModelling_4.ipynb\n",
        "\n",
        "\n"
      ]
    },
    {
      "cell_type": "code",
      "metadata": {
        "id": "lVqfbFv-sYMW"
      },
      "source": [
        "# Mount Google Drive to have access to files using Google Collab\n",
        "from google.colab import drive\n",
        "drive.mount('/content/drive/')"
      ],
      "execution_count": null,
      "outputs": []
    },
    {
      "cell_type": "code",
      "metadata": {
        "id": "9etFUNB6oo_P"
      },
      "source": [
        "!pip install pyldavis --quiet"
      ],
      "execution_count": null,
      "outputs": []
    },
    {
      "cell_type": "code",
      "metadata": {
        "id": "-CoUnSBuqAw_"
      },
      "source": [
        "# import the necessary libraries\n",
        "\n",
        "# related to dataframe and exploration\n",
        "import pandas as pd\n",
        "import string\n",
        "\n",
        "# related to topic modeling\n",
        "import gensim # the library for Topic modeling\n",
        "from gensim.models.ldamulticore import LdaMulticore\n",
        "from gensim import corpora, models\n",
        "import pyLDAvis.gensim_models #LDA visualisation library\n",
        "\n",
        "# related to NLTK\n",
        "import nltk\n",
        "nltk.download('stopwords') # for getting list of stopwords\n",
        "nltk.download('wordnet') # for getting list of words that the algorithm utilise\n",
        "from nltk.corpus import stopwords\n",
        "from nltk.stem.wordnet import WordNetLemmatizer\n",
        "\n",
        "import warnings\n",
        "warnings.simplefilter('ignore')\n",
        "from itertools import chain\n",
        "\n",
        "# for text manipulation\n",
        "import re\n"
      ],
      "execution_count": null,
      "outputs": []
    },
    {
      "cell_type": "code",
      "metadata": {
        "colab": {
          "base_uri": "https://localhost:8080/"
        },
        "id": "Q_OyqpGJDgPJ",
        "outputId": "4e4744b8-1ff6-4817-e338-fd7daa6acc0d"
      },
      "source": [
        "# list the datasets in the datasets directory\n",
        "!ls '/content/drive/My Drive/Colab Notebooks/Omdena_HrF/datasets'"
      ],
      "execution_count": null,
      "outputs": [
        {
          "output_type": "stream",
          "text": [
            "snscrape_killing.csv\t\tTweets_Dataset_parth_final.xlsx\n",
            "snscrape_warcrime.csv\t\ttwint_keyword_complete.csv\n",
            "trainDataset_extract.csv\ttwint_warcrime_complete.csv\n",
            "Tweets_Dataset_parth_final.csv\n"
          ],
          "name": "stdout"
        }
      ]
    },
    {
      "cell_type": "markdown",
      "metadata": {
        "id": "uzih7D3fDzX6"
      },
      "source": [
        "## Read in the Raw Data"
      ]
    },
    {
      "cell_type": "code",
      "metadata": {
        "id": "Dru8DXK5p9dr"
      },
      "source": [
        "# directory path\n",
        "dirpath = '/content/drive/My Drive/Colab Notebooks/Omdena_HrF/datasets/'\n",
        "\n",
        "# read in one of the twitter datasets we have\n",
        "raw_tweet_df = pd.read_csv(dirpath + 'snscrape_killing.csv')"
      ],
      "execution_count": null,
      "outputs": []
    },
    {
      "cell_type": "code",
      "metadata": {
        "colab": {
          "base_uri": "https://localhost:8080/"
        },
        "id": "KMXfn1MXtIfa",
        "outputId": "b7b18327-1e7c-4755-f759-4852e133812d"
      },
      "source": [
        "raw_tweet_df.shape"
      ],
      "execution_count": null,
      "outputs": [
        {
          "output_type": "execute_result",
          "data": {
            "text/plain": [
              "(5002, 8)"
            ]
          },
          "metadata": {
            "tags": []
          },
          "execution_count": 4
        }
      ]
    },
    {
      "cell_type": "code",
      "metadata": {
        "colab": {
          "base_uri": "https://localhost:8080/",
          "height": 293
        },
        "id": "bGnubY8FtLUa",
        "outputId": "3af4f2aa-98a9-4c7f-9c68-66c32c7f7c89"
      },
      "source": [
        "raw_tweet_df.head()"
      ],
      "execution_count": null,
      "outputs": [
        {
          "output_type": "execute_result",
          "data": {
            "text/html": [
              "<div>\n",
              "<style scoped>\n",
              "    .dataframe tbody tr th:only-of-type {\n",
              "        vertical-align: middle;\n",
              "    }\n",
              "\n",
              "    .dataframe tbody tr th {\n",
              "        vertical-align: top;\n",
              "    }\n",
              "\n",
              "    .dataframe thead th {\n",
              "        text-align: right;\n",
              "    }\n",
              "</style>\n",
              "<table border=\"1\" class=\"dataframe\">\n",
              "  <thead>\n",
              "    <tr style=\"text-align: right;\">\n",
              "      <th></th>\n",
              "      <th>text</th>\n",
              "      <th>hashtag</th>\n",
              "      <th>date</th>\n",
              "      <th>lang</th>\n",
              "      <th>event_location</th>\n",
              "      <th>submission_location</th>\n",
              "      <th>war_crime</th>\n",
              "      <th>war_crime_category</th>\n",
              "    </tr>\n",
              "  </thead>\n",
              "  <tbody>\n",
              "    <tr>\n",
              "      <th>0</th>\n",
              "      <td>#UnknownGovernment running Nigeria\\n#UnknownGu...</td>\n",
              "      <td>#killing</td>\n",
              "      <td>2021-06-09 16:55:37+00:00</td>\n",
              "      <td>en</td>\n",
              "      <td>NaN</td>\n",
              "      <td>NaN</td>\n",
              "      <td>NaN</td>\n",
              "      <td>NaN</td>\n",
              "    </tr>\n",
              "    <tr>\n",
              "      <th>1</th>\n",
              "      <td>Hey we talk about a bunch of bad things. And t...</td>\n",
              "      <td>#killing</td>\n",
              "      <td>2021-06-09 16:42:19+00:00</td>\n",
              "      <td>en</td>\n",
              "      <td>NaN</td>\n",
              "      <td>NaN</td>\n",
              "      <td>NaN</td>\n",
              "      <td>NaN</td>\n",
              "    </tr>\n",
              "    <tr>\n",
              "      <th>2</th>\n",
              "      <td>@chimbiko_jerome @Nj99625368 @CatrionaLaing1 @...</td>\n",
              "      <td>#killing</td>\n",
              "      <td>2021-06-09 16:35:52+00:00</td>\n",
              "      <td>en</td>\n",
              "      <td>NaN</td>\n",
              "      <td>NaN</td>\n",
              "      <td>NaN</td>\n",
              "      <td>NaN</td>\n",
              "    </tr>\n",
              "    <tr>\n",
              "      <th>3</th>\n",
              "      <td>#UnknownGovernment running Nigeria\\n#UnknownGu...</td>\n",
              "      <td>#killing</td>\n",
              "      <td>2021-06-09 16:35:30+00:00</td>\n",
              "      <td>en</td>\n",
              "      <td>NaN</td>\n",
              "      <td>NaN</td>\n",
              "      <td>NaN</td>\n",
              "      <td>NaN</td>\n",
              "    </tr>\n",
              "    <tr>\n",
              "      <th>4</th>\n",
              "      <td>@MaziNnamdiKanu @UNHumanRights @JohnCampbellcf...</td>\n",
              "      <td>#killing</td>\n",
              "      <td>2021-06-09 13:45:52+00:00</td>\n",
              "      <td>en</td>\n",
              "      <td>NaN</td>\n",
              "      <td>NaN</td>\n",
              "      <td>NaN</td>\n",
              "      <td>NaN</td>\n",
              "    </tr>\n",
              "  </tbody>\n",
              "</table>\n",
              "</div>"
            ],
            "text/plain": [
              "                                                text  ... war_crime_category\n",
              "0  #UnknownGovernment running Nigeria\\n#UnknownGu...  ...                NaN\n",
              "1  Hey we talk about a bunch of bad things. And t...  ...                NaN\n",
              "2  @chimbiko_jerome @Nj99625368 @CatrionaLaing1 @...  ...                NaN\n",
              "3  #UnknownGovernment running Nigeria\\n#UnknownGu...  ...                NaN\n",
              "4  @MaziNnamdiKanu @UNHumanRights @JohnCampbellcf...  ...                NaN\n",
              "\n",
              "[5 rows x 8 columns]"
            ]
          },
          "metadata": {
            "tags": []
          },
          "execution_count": 5
        }
      ]
    },
    {
      "cell_type": "code",
      "metadata": {
        "colab": {
          "base_uri": "https://localhost:8080/"
        },
        "id": "P2O7QpCFtNhF",
        "outputId": "e196a49d-6d2e-4746-c706-9ba3186d9e25"
      },
      "source": [
        "# column names\n",
        "for col_name in raw_tweet_df.columns: \n",
        "    print(col_name)"
      ],
      "execution_count": null,
      "outputs": [
        {
          "output_type": "stream",
          "text": [
            "text\n",
            "hashtag\n",
            "date\n",
            "lang\n",
            "event_location\n",
            "submission_location\n",
            "war_crime\n",
            "war_crime_category\n"
          ],
          "name": "stdout"
        }
      ]
    },
    {
      "cell_type": "markdown",
      "metadata": {
        "id": "E_SSNW32D4WS"
      },
      "source": [
        "##Explore and Clean the dataset to make it ready for Analysis"
      ]
    },
    {
      "cell_type": "code",
      "metadata": {
        "colab": {
          "base_uri": "https://localhost:8080/",
          "height": 53
        },
        "id": "3WJZZHwTtSck",
        "outputId": "ae8ca72a-4bee-4c52-d8d2-202dc69597f7"
      },
      "source": [
        "# viewing an example of the tweet [e.g. pick at random]\n",
        "tweet_example = raw_tweet_df['text'].values[700]\n",
        "tweet_example"
      ],
      "execution_count": null,
      "outputs": [
        {
          "output_type": "execute_result",
          "data": {
            "application/vnd.google.colaboratory.intrinsic+json": {
              "type": "string"
            },
            "text/plain": [
              "'@UN @UNICEF @DrYasminAHaque @MelissaFleming Ugandans seeking  your aid Museveni #Killing us #Kidnapping we are bleeding  by guns not even  #COVID19 😭😭🇺🇬'"
            ]
          },
          "metadata": {
            "tags": []
          },
          "execution_count": 7
        }
      ]
    },
    {
      "cell_type": "code",
      "metadata": {
        "id": "MVuMRtanITRS"
      },
      "source": [
        "# setting up variables needed to clean the tweets - stopwords, punctation, and lemma\n",
        "stop = set(stopwords.words('english'))\n",
        "exclude = set(string.punctuation)\n",
        "lemma = WordNetLemmatizer()"
      ],
      "execution_count": null,
      "outputs": []
    },
    {
      "cell_type": "code",
      "metadata": {
        "colab": {
          "base_uri": "https://localhost:8080/"
        },
        "id": "n-hsLDbwD0Dt",
        "outputId": "cfe9eb72-0f56-4306-a7b8-73e617f0fc25"
      },
      "source": [
        "# seeing what's inside the variables, stop and exclude\n",
        "print(list(stop)[:5])\n",
        "print(list(exclude)[:5])"
      ],
      "execution_count": null,
      "outputs": [
        {
          "output_type": "stream",
          "text": [
            "['again', 'here', 'that', 'yourself', 're']\n",
            "['^', '%', '+', '*', '!']\n"
          ],
          "name": "stdout"
        }
      ]
    },
    {
      "cell_type": "code",
      "metadata": {
        "colab": {
          "base_uri": "https://localhost:8080/",
          "height": 35
        },
        "id": "DW28W3nPIftT",
        "outputId": "ff210a65-f4e4-4679-f783-f0ba0e89ef21"
      },
      "source": [
        "# Example: remove stopwords from tweet\n",
        "' '.join([word for word in tweet_example.lower().split() if word not in stop])"
      ],
      "execution_count": null,
      "outputs": [
        {
          "output_type": "execute_result",
          "data": {
            "application/vnd.google.colaboratory.intrinsic+json": {
              "type": "string"
            },
            "text/plain": [
              "'@un @unicef @dryasminahaque @melissafleming ugandans seeking aid museveni #killing us #kidnapping bleeding guns even #covid19 😭😭🇺🇬'"
            ]
          },
          "metadata": {
            "tags": []
          },
          "execution_count": 24
        }
      ]
    },
    {
      "cell_type": "code",
      "metadata": {
        "colab": {
          "base_uri": "https://localhost:8080/",
          "height": 53
        },
        "id": "N_3ZK55yKiuK",
        "outputId": "a514d442-f8f1-4560-c440-0528672c2280"
      },
      "source": [
        "# Example: remove punctation including special characters or symbols\n",
        "punc_free_text = ''.join(ch for ch in tweet_example if ch not in exclude)\n",
        "punc_free_text"
      ],
      "execution_count": null,
      "outputs": [
        {
          "output_type": "execute_result",
          "data": {
            "application/vnd.google.colaboratory.intrinsic+json": {
              "type": "string"
            },
            "text/plain": [
              "'UN UNICEF DrYasminAHaque MelissaFleming Ugandans seeking  your aid Museveni Killing us Kidnapping we are bleeding  by guns not even  COVID19 😭😭🇺🇬'"
            ]
          },
          "metadata": {
            "tags": []
          },
          "execution_count": 25
        }
      ]
    },
    {
      "cell_type": "code",
      "metadata": {
        "colab": {
          "base_uri": "https://localhost:8080/",
          "height": 35
        },
        "id": "nBLhHF-RLDpF",
        "outputId": "1f8f0171-e935-43d3-9958-2d4e36187c91"
      },
      "source": [
        "# Example: normalised the text using the variable, lemma\n",
        "' '.join([lemma.lemmatize(word) for word in punc_free_text.split()])"
      ],
      "execution_count": null,
      "outputs": [
        {
          "output_type": "execute_result",
          "data": {
            "application/vnd.google.colaboratory.intrinsic+json": {
              "type": "string"
            },
            "text/plain": [
              "'UN UNICEF DrYasminAHaque MelissaFleming Ugandans seeking your aid Museveni Killing u Kidnapping we are bleeding by gun not even COVID19 😭😭🇺🇬'"
            ]
          },
          "metadata": {
            "tags": []
          },
          "execution_count": 27
        }
      ]
    },
    {
      "cell_type": "code",
      "metadata": {
        "id": "LM8Ha02GLT2q"
      },
      "source": [
        "# Wrap the process into a Function to clean text: \n",
        "# removing stopwords, punctuation, and then normalising it using the lemma\n",
        "def clean_tweet_msg(message):\n",
        "  '''\n",
        "  This function takes 'message' i.e. tweets as the argument then it does 3 things to clean it\n",
        "  \n",
        "  Firstly, it uses the variable, stop, to remove any stopwords such as 'a', 'the' etc...\n",
        "  Then in the Second Step, any character or punctation such as @, !, ., etc. are removed \n",
        "  Finally, the text is lemmatize using the variable, lemma, for each word in the message or tweet\n",
        "\n",
        "  And have done all that, this function returns a list of the words in the message\n",
        "\n",
        "  '''\n",
        "  stop_free = ' '.join([word for word in message.lower().split() if word not in stop])\n",
        "  punc_free = ''.join(symbol for symbol in stop_free if symbol not in exclude)\n",
        "  normalised = ' '.join([lemma.lemmatize(word) for word in punc_free.split()])\n",
        "  \n",
        "  return normalised.split()"
      ],
      "execution_count": null,
      "outputs": []
    },
    {
      "cell_type": "code",
      "metadata": {
        "colab": {
          "base_uri": "https://localhost:8080/"
        },
        "id": "yi0A_XBYMlr8",
        "outputId": "0dc3e25a-ca14-48bd-a776-4e1dfcf9a8af"
      },
      "source": [
        "# Testing the Function, clean_tweet_msg, \n",
        "print(tweet_example)\n",
        "clean_tweet_msg(tweet_example)"
      ],
      "execution_count": null,
      "outputs": [
        {
          "output_type": "stream",
          "text": [
            "@UN @UNICEF @DrYasminAHaque @MelissaFleming Ugandans seeking  your aid Museveni #Killing us #Kidnapping we are bleeding  by guns not even  #COVID19 😭😭🇺🇬\n"
          ],
          "name": "stdout"
        },
        {
          "output_type": "execute_result",
          "data": {
            "text/plain": [
              "['un',\n",
              " 'unicef',\n",
              " 'dryasminahaque',\n",
              " 'melissafleming',\n",
              " 'ugandan',\n",
              " 'seeking',\n",
              " 'aid',\n",
              " 'museveni',\n",
              " 'killing',\n",
              " 'u',\n",
              " 'kidnapping',\n",
              " 'bleeding',\n",
              " 'gun',\n",
              " 'even',\n",
              " 'covid19',\n",
              " '😭😭🇺🇬']"
            ]
          },
          "metadata": {
            "tags": []
          },
          "execution_count": 29
        }
      ]
    },
    {
      "cell_type": "markdown",
      "metadata": {
        "id": "06TyV-0SNBSA"
      },
      "source": [
        "###**Observations so far:**\n",
        "\n",
        "\n",
        "*   The tweets contains useful information such as \"mentions of user handles\" i.e. the @ symbol, and also #tags. These are good source of info that we can pull into seperate columns\n",
        "*   \n",
        "\n"
      ]
    },
    {
      "cell_type": "markdown",
      "metadata": {
        "id": "R5JJnFc6-pZD"
      },
      "source": [
        "## **Interim:** Identifying Topics using a Sample of 150 Tweets"
      ]
    },
    {
      "cell_type": "code",
      "metadata": {
        "id": "PzrI5iiOMzov"
      },
      "source": [
        "# sample dataframe of the text column in raw_tweet_df\n",
        "sample_tweet_df = raw_tweet_df[['text']][:150]"
      ],
      "execution_count": null,
      "outputs": []
    },
    {
      "cell_type": "code",
      "metadata": {
        "colab": {
          "base_uri": "https://localhost:8080/",
          "height": 206
        },
        "id": "27lx_Md-O1Qi",
        "outputId": "db46fcc2-b41d-488e-ddd9-fd3989a222d6"
      },
      "source": [
        "sample_tweet_df.head()"
      ],
      "execution_count": null,
      "outputs": [
        {
          "output_type": "execute_result",
          "data": {
            "text/html": [
              "<div>\n",
              "<style scoped>\n",
              "    .dataframe tbody tr th:only-of-type {\n",
              "        vertical-align: middle;\n",
              "    }\n",
              "\n",
              "    .dataframe tbody tr th {\n",
              "        vertical-align: top;\n",
              "    }\n",
              "\n",
              "    .dataframe thead th {\n",
              "        text-align: right;\n",
              "    }\n",
              "</style>\n",
              "<table border=\"1\" class=\"dataframe\">\n",
              "  <thead>\n",
              "    <tr style=\"text-align: right;\">\n",
              "      <th></th>\n",
              "      <th>text</th>\n",
              "    </tr>\n",
              "  </thead>\n",
              "  <tbody>\n",
              "    <tr>\n",
              "      <th>0</th>\n",
              "      <td>#UnknownGovernment running Nigeria\\n#UnknownGu...</td>\n",
              "    </tr>\n",
              "    <tr>\n",
              "      <th>1</th>\n",
              "      <td>Hey we talk about a bunch of bad things. And t...</td>\n",
              "    </tr>\n",
              "    <tr>\n",
              "      <th>2</th>\n",
              "      <td>@chimbiko_jerome @Nj99625368 @CatrionaLaing1 @...</td>\n",
              "    </tr>\n",
              "    <tr>\n",
              "      <th>3</th>\n",
              "      <td>#UnknownGovernment running Nigeria\\n#UnknownGu...</td>\n",
              "    </tr>\n",
              "    <tr>\n",
              "      <th>4</th>\n",
              "      <td>@MaziNnamdiKanu @UNHumanRights @JohnCampbellcf...</td>\n",
              "    </tr>\n",
              "  </tbody>\n",
              "</table>\n",
              "</div>"
            ],
            "text/plain": [
              "                                                text\n",
              "0  #UnknownGovernment running Nigeria\\n#UnknownGu...\n",
              "1  Hey we talk about a bunch of bad things. And t...\n",
              "2  @chimbiko_jerome @Nj99625368 @CatrionaLaing1 @...\n",
              "3  #UnknownGovernment running Nigeria\\n#UnknownGu...\n",
              "4  @MaziNnamdiKanu @UNHumanRights @JohnCampbellcf..."
            ]
          },
          "metadata": {
            "tags": []
          },
          "execution_count": 31
        }
      ]
    },
    {
      "cell_type": "code",
      "metadata": {
        "id": "X_nmwuEuO3FV"
      },
      "source": [
        "# use the clean_tweet_msg function to clean and gather the result into separate column\n",
        "sample_tweet_df['text_clean'] = sample_tweet_df['text'].apply(clean_tweet_msg)"
      ],
      "execution_count": null,
      "outputs": []
    },
    {
      "cell_type": "code",
      "metadata": {
        "colab": {
          "base_uri": "https://localhost:8080/",
          "height": 206
        },
        "id": "Tqy8jV2qPvi1",
        "outputId": "69ab3e68-687b-43d9-8197-c0b16a94e9bc"
      },
      "source": [
        "sample_tweet_df.head()"
      ],
      "execution_count": null,
      "outputs": [
        {
          "output_type": "execute_result",
          "data": {
            "text/html": [
              "<div>\n",
              "<style scoped>\n",
              "    .dataframe tbody tr th:only-of-type {\n",
              "        vertical-align: middle;\n",
              "    }\n",
              "\n",
              "    .dataframe tbody tr th {\n",
              "        vertical-align: top;\n",
              "    }\n",
              "\n",
              "    .dataframe thead th {\n",
              "        text-align: right;\n",
              "    }\n",
              "</style>\n",
              "<table border=\"1\" class=\"dataframe\">\n",
              "  <thead>\n",
              "    <tr style=\"text-align: right;\">\n",
              "      <th></th>\n",
              "      <th>text</th>\n",
              "      <th>text_clean</th>\n",
              "    </tr>\n",
              "  </thead>\n",
              "  <tbody>\n",
              "    <tr>\n",
              "      <th>0</th>\n",
              "      <td>#UnknownGovernment running Nigeria\\n#UnknownGu...</td>\n",
              "      <td>[unknowngovernment, running, nigeria, unknowng...</td>\n",
              "    </tr>\n",
              "    <tr>\n",
              "      <th>1</th>\n",
              "      <td>Hey we talk about a bunch of bad things. And t...</td>\n",
              "      <td>[hey, talk, bunch, bad, thing, podcast, hosted...</td>\n",
              "    </tr>\n",
              "    <tr>\n",
              "      <th>2</th>\n",
              "      <td>@chimbiko_jerome @Nj99625368 @CatrionaLaing1 @...</td>\n",
              "      <td>[chimbikojerome, nj99625368, catrionalaing1, g...</td>\n",
              "    </tr>\n",
              "    <tr>\n",
              "      <th>3</th>\n",
              "      <td>#UnknownGovernment running Nigeria\\n#UnknownGu...</td>\n",
              "      <td>[unknowngovernment, running, nigeria, unknowng...</td>\n",
              "    </tr>\n",
              "    <tr>\n",
              "      <th>4</th>\n",
              "      <td>@MaziNnamdiKanu @UNHumanRights @JohnCampbellcf...</td>\n",
              "      <td>[mazinnamdikanu, unhumanrights, johncampbellcf...</td>\n",
              "    </tr>\n",
              "  </tbody>\n",
              "</table>\n",
              "</div>"
            ],
            "text/plain": [
              "                                                text                                         text_clean\n",
              "0  #UnknownGovernment running Nigeria\\n#UnknownGu...  [unknowngovernment, running, nigeria, unknowng...\n",
              "1  Hey we talk about a bunch of bad things. And t...  [hey, talk, bunch, bad, thing, podcast, hosted...\n",
              "2  @chimbiko_jerome @Nj99625368 @CatrionaLaing1 @...  [chimbikojerome, nj99625368, catrionalaing1, g...\n",
              "3  #UnknownGovernment running Nigeria\\n#UnknownGu...  [unknowngovernment, running, nigeria, unknowng...\n",
              "4  @MaziNnamdiKanu @UNHumanRights @JohnCampbellcf...  [mazinnamdikanu, unhumanrights, johncampbellcf..."
            ]
          },
          "metadata": {
            "tags": []
          },
          "execution_count": 33
        }
      ]
    },
    {
      "cell_type": "code",
      "metadata": {
        "colab": {
          "base_uri": "https://localhost:8080/"
        },
        "id": "kXY_L402QPyc",
        "outputId": "d653f4d0-ef40-4a76-85e6-a1a1adca87e1"
      },
      "source": [
        "# create dictionary\n",
        "dictionary = corpora.Dictionary(sample_tweet_df['text_clean'])\n",
        "# print the total number of unique words\n",
        "print(dictionary.num_nnz)"
      ],
      "execution_count": null,
      "outputs": [
        {
          "output_type": "stream",
          "text": [
            "2748\n"
          ],
          "name": "stdout"
        }
      ]
    },
    {
      "cell_type": "code",
      "metadata": {
        "colab": {
          "base_uri": "https://localhost:8080/"
        },
        "id": "fQlDlReRQ4kC",
        "outputId": "2bd87412-b2af-493f-b766-bf675753e694"
      },
      "source": [
        "# create document term matrix\n",
        "doc_term_matrix = [dictionary.doc2bow(doc) for doc in sample_tweet_df['text_clean']]\n",
        "print(len(doc_term_matrix))"
      ],
      "execution_count": null,
      "outputs": [
        {
          "output_type": "stream",
          "text": [
            "150\n"
          ],
          "name": "stdout"
        }
      ]
    },
    {
      "cell_type": "code",
      "metadata": {
        "id": "8YouHoM2h7nx"
      },
      "source": [
        "#doc_term_matrix"
      ],
      "execution_count": null,
      "outputs": []
    },
    {
      "cell_type": "markdown",
      "metadata": {
        "id": "SLwNI_w7RRF_"
      },
      "source": [
        "**Interim:** LDA Model Training on Sample of 150 Tweets"
      ]
    },
    {
      "cell_type": "code",
      "metadata": {
        "id": "KLqLoT3dRM7C"
      },
      "source": [
        "# instantiate LDA Model\n",
        "lda = gensim.models.ldamodel.LdaModel"
      ],
      "execution_count": null,
      "outputs": []
    },
    {
      "cell_type": "code",
      "metadata": {
        "colab": {
          "base_uri": "https://localhost:8080/"
        },
        "id": "ddItQb_qRdCk",
        "outputId": "8bdafb4c-f119-4da4-dfbc-60f5ca31cfcf"
      },
      "source": [
        "# fit LDA model on dataset\n",
        "ntopics = 5\n",
        "%time ldamodel = lda(doc_term_matrix, num_topics = ntopics, id2word = dictionary, passes = 50, minimum_probability = 0)"
      ],
      "execution_count": null,
      "outputs": [
        {
          "output_type": "stream",
          "text": [
            "CPU times: user 3.12 s, sys: 69.8 ms, total: 3.19 s\n",
            "Wall time: 3.11 s\n"
          ],
          "name": "stdout"
        }
      ]
    },
    {
      "cell_type": "code",
      "metadata": {
        "colab": {
          "base_uri": "https://localhost:8080/"
        },
        "id": "kTTXraohR7Ff",
        "outputId": "b2fd11ef-114b-4528-a0f4-763f90c4a2bf"
      },
      "source": [
        "# Print the topics identified by LDA model\n",
        "ldamodel.print_topics(num_topics = ntopics)"
      ],
      "execution_count": null,
      "outputs": [
        {
          "output_type": "execute_result",
          "data": {
            "text/plain": [
              "[(0,\n",
              "  '0.037*\"killing\" + 0.020*\"million\" + 0.017*\"amp\" + 0.011*\"two\" + 0.011*\"muslim\" + 0.011*\"say\" + 0.009*\"like\" + 0.009*\"christian\" + 0.009*\"spread\" + 0.009*\"sponsored\"'),\n",
              " (1,\n",
              "  '0.037*\"killing\" + 0.010*\"amp\" + 0.009*\"compassion\" + 0.008*\"child\" + 0.007*\"wave\" + 0.007*\"muslim\" + 0.006*\"u\" + 0.006*\"un\" + 0.004*\"even\" + 0.004*\"it\"'),\n",
              " (2,\n",
              "  '0.041*\"killing\" + 0.014*\"nigeria\" + 0.014*\"biafrans\" + 0.013*\"u\" + 0.012*\"people\" + 0.012*\"woman\" + 0.010*\"buhari\" + 0.010*\"un\" + 0.010*\"biafraland\" + 0.010*\"running\"'),\n",
              " (3,\n",
              "  '0.048*\"killing\" + 0.008*\"u\" + 0.007*\"canadian\" + 0.007*\"worst\" + 0.007*\"it’s\" + 0.007*\"history\" + 0.007*\"free\" + 0.007*\"nosis\" + 0.007*\"june\" + 0.007*\"cdnpoli\"'),\n",
              " (4,\n",
              "  '0.039*\"killing\" + 0.012*\"murder\" + 0.009*\"people\" + 0.008*\"innocent\" + 0.006*\"make\" + 0.006*\"brotherhood\" + 0.004*\"must\" + 0.004*\"know\" + 0.004*\"one\" + 0.004*\"planet\"')]"
            ]
          },
          "metadata": {
            "tags": []
          },
          "execution_count": 39
        }
      ]
    },
    {
      "cell_type": "code",
      "metadata": {
        "colab": {
          "base_uri": "https://localhost:8080/",
          "height": 899
        },
        "id": "vGF11uQUSTyG",
        "outputId": "d085c175-da2c-48b8-9ffc-adf4f4bab87c"
      },
      "source": [
        "# visualise the LDA model results\n",
        "lda_display = pyLDAvis.gensim_models.prepare(ldamodel, doc_term_matrix, dictionary, sort_topics = False, mds = 'mds')\n",
        "pyLDAvis.display(lda_display)"
      ],
      "execution_count": null,
      "outputs": [
        {
          "output_type": "stream",
          "text": [
            "WARNING:root:Unknown mds `mds`, switch to PCoA\n"
          ],
          "name": "stderr"
        },
        {
          "output_type": "execute_result",
          "data": {
            "text/html": [
              "\n",
              "<link rel=\"stylesheet\" type=\"text/css\" href=\"https://cdn.jsdelivr.net/gh/bmabey/pyLDAvis@3.3.1/pyLDAvis/js/ldavis.v1.0.0.css\">\n",
              "\n",
              "\n",
              "<div id=\"ldavis_el5181405811751113762835296044\"></div>\n",
              "<script type=\"text/javascript\">\n",
              "\n",
              "var ldavis_el5181405811751113762835296044_data = {\"mdsDat\": {\"x\": [0.037411008062412085, 0.06895562345800314, -0.1817478536216456, 0.024784463908752604, 0.05059675819247778], \"y\": [-0.08212795936090718, -0.04398257012727279, -0.016219599702922673, 0.15666895875787307, -0.014338829566770446], \"topics\": [1, 2, 3, 4, 5], \"cluster\": [1, 1, 1, 1, 1], \"Freq\": [16.251534169304115, 21.70465538189841, 25.41825755178781, 20.820412994159586, 15.80513990285008]}, \"tinfo\": {\"Term\": [\"million\", \"biafrans\", \"nigeria\", \"amp\", \"murder\", \"muslim\", \"say\", \"woman\", \"running\", \"biafraland\", \"capitalist\", \"killed\", \"uk\", \"merger\", \"loveofjesus\", \"superiority\", \"communist\", \"article\", \"philosophy\", \"spread\", \"sponsored\", \"compassion\", \"christian\", \"two\", \"northern\", \"buhari\", \"un\", \"like\", \"innocent\", \"nosis\", \"say\", \"capitalist\", \"killed\", \"uk\", \"merger\", \"loveofjesus\", \"superiority\", \"communist\", \"article\", \"philosophy\", \"httpstcogsd1szcatt\", \"httpstcomlivsewncd\", \"httpstcowjbe8heeqb\", \"million\", \"httpstcouen5r84ivo\", \"httpstcooxnlm0m5qg\", \"httpstcorrok9wvuqy\", \"canada\", \"christian\", \"different\", \"possible\", \"organize\", \"seeking\", \"\\ud83c\\uddee\\ud83c\\uddf3\", \"resists\", \"\\u270d\\ufe0f\", \"data\", \"subpoena\", \"moblynching\", \"genoside\", \"two\", \"anything\", \"like\", \"spread\", \"sponsored\", \"muslim\", \"amp\", \"support\", \"killing\", \"human\", \"said\", \"people\", \"family\", \"compassion\", \"wave\", \"can\\u2019t\", \"help\", \"city\", \"lack\", \"terrorism\", \"amazon\", \"crematorium\", \"enjoy\", \"getting\", \"httpstcobw7ptwc5hx\", \"scale\", \"coronavirus\", \"enormous\", \"full\", \"funeral\", \"httpstcojtotblkkxt\", \"rise\", \"tragedy\", \"trait\", \"violence\", \"may\", \"victim\", \"lead\", \"kansa\", \"lengthy\", \"term\", \"uber\", \"instagram\", \"child\", \"many\", \"called\", \"it\", \"good\", \"killing\", \"even\", \"muslim\", \"amp\", \"make\", \"un\", \"u\", \"people\", \"family\", \"man\", \"world\", \"police\", \"get\", \"thing\", \"biafrans\", \"running\", \"biafraland\", \"northern\", \"fulani\", \"seeing\", \"canadianpm\", \"callevilevil\", \"eu\", \"statedept\", \"thisisnot1967\", \"theyre\", \"nigeriagov\", \"biafraexit\", \"hope\", \"unknowngovernment\", \"silent\", \"unknowngunmen\", \"2017\", \"unknownsoldiers\", \"imposter\", \"died\", \"since\", \"representing\", \"cnni\", \"mbuhari\", \"unknownpolicemen\", \"hyperrealityfacemask\", \"usinnigeria\", \"oyo\", \"woman\", \"buhari\", \"nigeria\", \"un\", \"potus\", \"killing\", \"u\", \"people\", \"benue\", \"dead\", \"charge\", \"netanyahu\", \"citizen\", \"nosis\", \"nofreeheroin\", \"midtowntosafety\", \"rehabnotneedles\", \"cdnpoli\", \"stopkillingaddicts\", \"roehamptonshelter\", \"addict\", \"2021\", \"june\", \"heroinhandouts\", \"healthminister\", \"pattyhajdu\", \"federal\", \"hypocritehajdu\", \"2011\", \"episode\", \"ive\", \"s01\", \"tvtime\", \"watched\", \"i\\u2019m\", \"history\", \"it\\u2019s\", \"aoc\", \"mercy\", \"dollar\", \"truly\", \"palestinian\", \"voice\", \"canadian\", \"worst\", \"free\", \"killing\", \"back\", \"money\", \"government\", \"u\", \"nigeria\", \"brotherhood\", \"medium\", \"taliban\", \"operation\", \"excuse\", \"allah\", \"earth\", \"sister\", \"deeply\", \"believed\", \"argument\", \"condones\", \"just\", \"infused\", \"mean\", \"random\", \"tradition\", \"cancer\", \"immune\", \"virus\", \"barbarism\", \"tolerates\", \"amina\", \"sarah\", \"bestbookever\", \"justsayno\", \"sundayvibes\", \"imagine\", \"gettingtopeace\", \"carolinemyss\", \"murder\", \"innocent\", \"must\", \"planet\", \"killing\", \"make\", \"one\", \"that\", \"people\", \"said\", \"know\", \"go\", \"matter\", \"brother\", \"war\", \"palestine\", \"also\", \"animal\", \"wrong\", \"first\", \"book\", \"now\", \"faith\", \"act\", \"follow\", \"religion\", \"2\", \"even\"], \"Freq\": [11.0, 11.0, 15.0, 19.0, 8.0, 9.0, 5.0, 10.0, 7.0, 7.0, 5.0, 5.0, 5.0, 5.0, 5.0, 5.0, 5.0, 5.0, 5.0, 7.0, 7.0, 6.0, 5.0, 8.0, 6.0, 9.0, 11.0, 7.0, 6.0, 4.0, 5.093062955194046, 4.47195732511013, 4.47195732511013, 4.47195732511013, 4.47195732511013, 4.47195732511013, 4.47195732511013, 4.47195732511013, 4.47195732511013, 4.471956879069285, 2.608640434858378, 2.6086402118379564, 2.6086397657971125, 9.44323685670561, 1.9875359198765699, 1.9875359198765699, 1.9875359198765699, 1.9875339126927738, 4.473081794076741, 1.366430178282442, 1.3664298437518092, 1.3664298437518092, 1.3664298437518092, 1.3664298437518092, 1.3664298437518092, 1.3664297322415984, 1.3664297322415984, 1.3664297322415984, 1.3664297322415984, 1.3664297322415984, 5.101606867552417, 2.524053918347139, 4.476165720469107, 4.472677681072477, 4.472677235031633, 5.094280646696962, 8.202997097066307, 2.6114243987834507, 17.825690458442644, 2.6112145365665564, 1.9880682696233574, 2.6086727728195362, 1.9897737067887047, 5.587682106161545, 4.224832928211437, 2.8619813674308343, 2.8619813674308343, 2.8619804738693992, 2.8619801760155874, 2.861979580307964, 2.1805572252364973, 2.1805572252364973, 2.1805572252364973, 2.1805572252364973, 2.1805572252364973, 2.1805572252364973, 2.1805572252364973, 2.1805572252364973, 2.1805572252364973, 2.1805572252364973, 2.1805572252364973, 2.1805572252364973, 2.1805572252364973, 2.1805560338212504, 2.180555735967439, 1.4991317427000077, 1.4991312959192902, 1.4991311469923843, 1.4991309980654786, 1.4991309980654786, 1.4991309980654786, 1.4991308491385726, 1.4991308491385726, 4.907488546990132, 2.18096022144369, 2.180911075564764, 2.862238713124119, 2.181536866423087, 23.690789403172875, 2.8626482621151683, 4.223498245281333, 6.269530838964421, 2.860938283382358, 3.5436478137009666, 3.807599606674827, 2.8601382480442066, 2.182417173363484, 2.1821465731755803, 2.182123936285893, 2.18138510990604, 2.181267159796618, 2.1810242600131993, 10.850540700560588, 7.281555269792357, 7.281555269792357, 5.853806502359933, 3.712166956872664, 3.712165561609802, 3.712165561609802, 3.712165561609802, 3.712165561609802, 3.7121648639783706, 3.7121648639783706, 3.7121648639783706, 3.7121648639783706, 3.7121648639783706, 3.7121648639783706, 3.71216416634694, 3.71216416634694, 3.71216416634694, 3.712163817531224, 3.712163817531224, 3.712163817531224, 3.712163817531224, 3.712163817531224, 3.7121634687155085, 3.712163817531224, 3.7121634687155085, 3.7121634687155085, 3.712163119899793, 3.71080483150343, 2.9982887361835804, 8.711452742032588, 7.285972672014119, 10.852088744706212, 7.284039535318525, 5.1414459788492195, 30.787912175446003, 9.863492684471993, 8.714548132692405, 3.715513843663394, 3.712885517246703, 3.712718783334669, 3.7127166904403754, 3.71254611955547, 4.151456286445502, 4.151456286445502, 4.151456286445502, 4.151456286445502, 4.151456286445502, 4.151456286445502, 4.151456286445502, 4.151456286445502, 4.151456286445502, 4.151456286445502, 4.151456286445502, 4.151456286445502, 4.151455715006862, 4.151455715006862, 4.151455715006862, 3.4818636318980443, 3.4818636318980443, 3.4818636318980443, 3.4818636318980443, 3.4818636318980443, 3.4818636318980443, 2.1426863229440816, 4.1524423038179235, 4.152736594717255, 1.4730963827301615, 1.4730956684318621, 1.4730955255722022, 1.4730955255722022, 1.4730955255722022, 1.4730946684142432, 4.154818917119518, 4.153270318406529, 4.1519400092538215, 29.5927842458508, 2.142992471195183, 2.1431706171910405, 2.8136581446479227, 4.820413501225858, 4.1495899678489625, 2.5788521779166653, 1.9648404466000275, 1.3508278477052444, 1.3508278477052444, 1.3508274139161718, 1.3508274139161718, 1.3508274139161718, 1.3508274139161718, 1.3508273054689037, 1.3508270885743674, 1.3508270885743674, 1.3508270885743674, 1.3508270885743674, 1.3508270885743674, 1.3508270885743674, 1.3508270885743674, 1.3508269801270993, 1.3508270885743674, 1.3508270885743674, 1.3508270885743674, 1.3508269801270993, 1.3508269801270993, 1.3508268716798313, 1.3508268716798313, 1.3508261125489542, 1.3508261125489542, 1.3508261125489542, 1.3508261125489542, 1.3508261125489542, 1.3508261125489542, 5.650234975643817, 3.8090220288809236, 2.0366360084197974, 1.9656824311898489, 17.935711942918353, 2.5792831473602447, 1.965745330605369, 1.9656056505240074, 4.423996555044089, 1.9654141326484762, 1.9724660247064014, 1.3682624812146778, 1.351574724040909, 1.3514102095351441, 1.351367481311498, 1.3513628180789679, 1.3512520934181993, 1.3512323560153983, 1.3511625159747176, 1.3511425616773802, 1.351120329987412, 1.3510979898501756, 1.3510184980026305, 1.3510124249556148, 1.3509629730013442, 1.3509455129911738, 1.350916449123313, 1.3509149308615591], \"Total\": [11.0, 11.0, 15.0, 19.0, 8.0, 9.0, 5.0, 10.0, 7.0, 7.0, 5.0, 5.0, 5.0, 5.0, 5.0, 5.0, 5.0, 5.0, 5.0, 7.0, 7.0, 6.0, 5.0, 8.0, 6.0, 9.0, 11.0, 7.0, 6.0, 4.0, 5.6288499077013, 5.007743483949954, 5.007743548293497, 5.0077436235689285, 5.007743670108587, 5.007743715836266, 5.007743740324063, 5.00774376743588, 5.007743795359675, 5.007743642924665, 3.144426487486533, 3.144426509939729, 3.1444262407495858, 11.98517116553934, 2.523320699776203, 2.5233207183920663, 2.5233207183920663, 2.5233206952864906, 5.689059342935241, 1.9022146588978806, 1.9022148000913974, 1.9022148730380388, 1.9022148919705038, 1.9022149045660555, 1.9022149276854188, 1.902214840637182, 1.9022148518901227, 1.9022149054624953, 1.9022149088460447, 1.9022149141746032, 8.339590660121146, 3.870938647958521, 7.730604995073646, 7.863152324779424, 7.863152403525895, 9.717283434929124, 19.66445095653068, 5.197122866159819, 119.83288822583066, 5.823096068936602, 5.046672944765613, 20.07396383415809, 5.85122696469654, 6.111404432775617, 4.748553997050094, 3.385703474006636, 3.3857036043529365, 3.3857035660244645, 3.385703389166292, 3.3857031056450295, 2.7042784399655506, 2.7042784399655506, 2.7042784399655506, 2.7042784399655506, 2.7042784399655506, 2.7042784399655506, 2.704278453904327, 2.704278453904327, 2.704278453904327, 2.704278453904327, 2.704278453904327, 2.704278453904327, 2.704278453904327, 2.704278515107393, 2.7042784258857506, 2.0228531645821373, 2.0228532949586056, 2.0228532070017295, 2.0228531693605722, 2.0228531693605722, 2.0228531693605722, 2.0228531445230793, 2.0228531554235705, 6.769181764787633, 3.325420082421703, 3.3254160560031076, 4.81344957609012, 3.418110455140821, 119.83288822583066, 5.3275645088989725, 9.717283434929124, 19.66445095653068, 5.841739603539889, 11.827369292297357, 19.964408820047726, 20.07396383415809, 5.85122696469654, 4.7018358821766375, 6.764546314099604, 3.939472281638325, 5.515580145753189, 4.657515555284594, 11.36817160739498, 7.798794172578075, 7.798794451920481, 6.37103713170352, 4.229398318884207, 4.229398590020819, 4.229398706094292, 4.2293987596666645, 4.2293987596666645, 4.229398106678877, 4.229398169179978, 4.229398249538537, 4.229398329897095, 4.229398392398196, 4.229398633473872, 4.2293982529316745, 4.229398266205405, 4.22939837929612, 4.229398085791843, 4.229398105348167, 4.229398272694973, 4.229398300759225, 4.229398301982741, 4.229398079610477, 4.229398561717496, 4.229398196629261, 4.229398239090171, 4.229397949178945, 4.229336482573748, 3.5155192616455286, 10.58950102502821, 9.089920897439615, 15.38578130532989, 11.827369292297357, 6.948039405583799, 119.83288822583066, 19.964408820047726, 20.07396383415809, 5.52033429730241, 5.5686238983751295, 4.843489608215778, 4.899023215678673, 4.898916297860918, 4.677545879739512, 4.67754589329542, 4.67754591615926, 4.6775459746308705, 4.677545983938802, 4.677545983938802, 4.677546055966322, 4.677546065274253, 4.677546137301773, 4.67754616441359, 4.677546177969499, 4.677546214389247, 4.67754572428606, 4.67754578275767, 4.677545986096297, 4.007955616396951, 4.007955616396951, 4.007955616396951, 4.007955616396951, 4.007955616396951, 4.007955616396951, 2.6687746611247607, 5.298723246544897, 5.358948268992301, 1.9991839542681185, 1.9991839685177715, 1.9991838714278958, 1.9991839092907697, 1.9991839230496058, 1.9991839904191437, 6.601133299209698, 6.661580829458997, 6.721812624642181, 119.83288822583066, 3.3501944067165565, 3.382621341775296, 5.479533874537089, 19.964408820047726, 15.38578130532989, 3.116058800122687, 2.502044791155912, 1.888030675869915, 1.8880306847986437, 1.8880308137280182, 1.8880308718282095, 1.8880309744451356, 1.888030975536502, 1.8880309206616064, 1.8880307573394426, 1.888030791962991, 1.8880307969730388, 1.8880308287692724, 1.8880308449783976, 1.8880308449783976, 1.888030863392821, 1.8880308453242067, 1.8880310262108375, 1.8880310262108375, 1.8880310262108375, 1.8880308860491695, 1.8880308999879458, 1.888030865117649, 1.888030865117649, 1.8880309133282478, 1.8880309970996323, 1.8880309974788352, 1.8880310153362927, 1.8880310157154956, 1.8880310160946985, 8.230259463705117, 6.396834672349307, 3.1223221373906322, 3.123141160904025, 119.83288822583066, 5.841739603539889, 3.8045185146723477, 3.897246305872377, 20.07396383415809, 5.046672944765613, 5.0950869078162695, 3.1784858621867356, 2.5575538823808506, 2.601815109299684, 3.2389914881841144, 3.2389937533093875, 2.509132169247665, 3.283279961176908, 2.509133536806524, 2.5575930298618657, 2.601861925557402, 4.562162321553661, 2.5091346359620177, 2.5694357842268403, 2.5091356330473538, 3.227201078112205, 3.872008207450023, 5.3275645088989725], \"Category\": [\"Default\", \"Default\", \"Default\", \"Default\", \"Default\", \"Default\", \"Default\", \"Default\", \"Default\", \"Default\", \"Default\", \"Default\", \"Default\", \"Default\", \"Default\", \"Default\", \"Default\", \"Default\", \"Default\", \"Default\", \"Default\", \"Default\", \"Default\", \"Default\", \"Default\", \"Default\", \"Default\", \"Default\", \"Default\", \"Default\", \"Topic1\", \"Topic1\", \"Topic1\", \"Topic1\", \"Topic1\", \"Topic1\", \"Topic1\", \"Topic1\", \"Topic1\", \"Topic1\", \"Topic1\", \"Topic1\", \"Topic1\", \"Topic1\", \"Topic1\", \"Topic1\", \"Topic1\", \"Topic1\", \"Topic1\", \"Topic1\", \"Topic1\", \"Topic1\", \"Topic1\", \"Topic1\", \"Topic1\", \"Topic1\", \"Topic1\", \"Topic1\", \"Topic1\", \"Topic1\", \"Topic1\", \"Topic1\", \"Topic1\", \"Topic1\", \"Topic1\", \"Topic1\", \"Topic1\", \"Topic1\", \"Topic1\", \"Topic1\", \"Topic1\", \"Topic1\", \"Topic1\", \"Topic2\", \"Topic2\", \"Topic2\", \"Topic2\", \"Topic2\", \"Topic2\", \"Topic2\", \"Topic2\", \"Topic2\", \"Topic2\", \"Topic2\", \"Topic2\", \"Topic2\", \"Topic2\", \"Topic2\", \"Topic2\", \"Topic2\", \"Topic2\", \"Topic2\", \"Topic2\", \"Topic2\", \"Topic2\", \"Topic2\", \"Topic2\", \"Topic2\", \"Topic2\", \"Topic2\", \"Topic2\", \"Topic2\", \"Topic2\", \"Topic2\", \"Topic2\", \"Topic2\", \"Topic2\", \"Topic2\", \"Topic2\", \"Topic2\", \"Topic2\", \"Topic2\", \"Topic2\", \"Topic2\", \"Topic2\", \"Topic2\", \"Topic2\", \"Topic2\", \"Topic2\", \"Topic2\", \"Topic2\", \"Topic2\", \"Topic3\", \"Topic3\", \"Topic3\", \"Topic3\", \"Topic3\", \"Topic3\", \"Topic3\", \"Topic3\", \"Topic3\", \"Topic3\", \"Topic3\", \"Topic3\", \"Topic3\", \"Topic3\", \"Topic3\", \"Topic3\", \"Topic3\", \"Topic3\", \"Topic3\", \"Topic3\", \"Topic3\", \"Topic3\", \"Topic3\", \"Topic3\", \"Topic3\", \"Topic3\", \"Topic3\", \"Topic3\", \"Topic3\", \"Topic3\", \"Topic3\", \"Topic3\", \"Topic3\", \"Topic3\", \"Topic3\", \"Topic3\", \"Topic3\", \"Topic3\", \"Topic3\", \"Topic3\", \"Topic3\", \"Topic3\", \"Topic3\", \"Topic4\", \"Topic4\", \"Topic4\", \"Topic4\", \"Topic4\", \"Topic4\", \"Topic4\", \"Topic4\", \"Topic4\", \"Topic4\", \"Topic4\", \"Topic4\", \"Topic4\", \"Topic4\", \"Topic4\", \"Topic4\", \"Topic4\", \"Topic4\", \"Topic4\", \"Topic4\", \"Topic4\", \"Topic4\", \"Topic4\", \"Topic4\", \"Topic4\", \"Topic4\", \"Topic4\", \"Topic4\", \"Topic4\", \"Topic4\", \"Topic4\", \"Topic4\", \"Topic4\", \"Topic4\", \"Topic4\", \"Topic4\", \"Topic4\", \"Topic4\", \"Topic4\", \"Topic5\", \"Topic5\", \"Topic5\", \"Topic5\", \"Topic5\", \"Topic5\", \"Topic5\", \"Topic5\", \"Topic5\", \"Topic5\", \"Topic5\", \"Topic5\", \"Topic5\", \"Topic5\", \"Topic5\", \"Topic5\", \"Topic5\", \"Topic5\", \"Topic5\", \"Topic5\", \"Topic5\", \"Topic5\", \"Topic5\", \"Topic5\", \"Topic5\", \"Topic5\", \"Topic5\", \"Topic5\", \"Topic5\", \"Topic5\", \"Topic5\", \"Topic5\", \"Topic5\", \"Topic5\", \"Topic5\", \"Topic5\", \"Topic5\", \"Topic5\", \"Topic5\", \"Topic5\", \"Topic5\", \"Topic5\", \"Topic5\", \"Topic5\", \"Topic5\", \"Topic5\", \"Topic5\", \"Topic5\", \"Topic5\", \"Topic5\", \"Topic5\", \"Topic5\", \"Topic5\", \"Topic5\", \"Topic5\", \"Topic5\", \"Topic5\", \"Topic5\"], \"logprob\": [30.0, 29.0, 28.0, 27.0, 26.0, 25.0, 24.0, 23.0, 22.0, 21.0, 20.0, 19.0, 18.0, 17.0, 16.0, 15.0, 14.0, 13.0, 12.0, 11.0, 10.0, 9.0, 8.0, 7.0, 6.0, 5.0, 4.0, 3.0, 2.0, 1.0, -4.5437, -4.6737, -4.6737, -4.6737, -4.6737, -4.6737, -4.6737, -4.6737, -4.6737, -4.6737, -5.2127, -5.2127, -5.2127, -3.9263, -5.4847, -5.4847, -5.4847, -5.4847, -4.6735, -5.8594, -5.8594, -5.8594, -5.8594, -5.8594, -5.8594, -5.8594, -5.8594, -5.8594, -5.8594, -5.8594, -4.542, -5.2457, -4.6728, -4.6736, -4.6736, -4.5434, -4.0671, -5.2117, -3.2909, -5.2117, -5.4844, -5.2127, -5.4835, -4.7403, -5.0199, -5.4094, -5.4094, -5.4094, -5.4094, -5.4094, -5.6813, -5.6813, -5.6813, -5.6813, -5.6813, -5.6813, -5.6813, -5.6813, -5.6813, -5.6813, -5.6813, -5.6813, -5.6813, -5.6813, -5.6813, -6.056, -6.056, -6.056, -6.056, -6.056, -6.056, -6.056, -6.056, -4.8701, -5.6811, -5.6812, -5.4093, -5.6809, -3.2958, -5.4092, -5.0202, -4.6252, -5.4097, -5.1957, -5.1239, -5.41, -5.6805, -5.6806, -5.6806, -5.6809, -5.681, -5.6811, -4.2346, -4.6335, -4.6335, -4.8517, -5.3072, -5.3072, -5.3072, -5.3072, -5.3072, -5.3072, -5.3072, -5.3072, -5.3072, -5.3072, -5.3072, -5.3072, -5.3072, -5.3072, -5.3072, -5.3072, -5.3072, -5.3072, -5.3072, -5.3072, -5.3072, -5.3072, -5.3072, -5.3072, -5.3076, -5.5208, -4.4542, -4.6329, -4.2345, -4.6332, -4.9815, -3.1917, -4.33, -4.4538, -5.3063, -5.307, -5.3071, -5.3071, -5.3071, -4.9958, -4.9958, -4.9958, -4.9958, -4.9958, -4.9958, -4.9958, -4.9958, -4.9958, -4.9958, -4.9958, -4.9958, -4.9958, -4.9958, -4.9958, -5.1717, -5.1717, -5.1717, -5.1717, -5.1717, -5.1717, -5.6572, -4.9956, -4.9955, -6.0319, -6.0319, -6.0319, -6.0319, -6.0319, -6.0319, -4.995, -4.9954, -4.9957, -3.0318, -5.6571, -5.657, -5.3848, -4.8464, -4.9963, -5.1964, -5.4683, -5.843, -5.843, -5.843, -5.843, -5.843, -5.843, -5.843, -5.843, -5.843, -5.843, -5.843, -5.843, -5.843, -5.843, -5.843, -5.843, -5.843, -5.843, -5.843, -5.843, -5.843, -5.843, -5.843, -5.843, -5.843, -5.843, -5.843, -5.843, -4.412, -4.8063, -5.4324, -5.4679, -3.2569, -5.1962, -5.4678, -5.4679, -4.6567, -5.468, -5.4644, -5.8302, -5.8424, -5.8426, -5.8426, -5.8426, -5.8427, -5.8427, -5.8427, -5.8428, -5.8428, -5.8428, -5.8428, -5.8429, -5.8429, -5.8429, -5.8429, -5.8429], \"loglift\": [30.0, 29.0, 28.0, 27.0, 26.0, 25.0, 24.0, 23.0, 22.0, 21.0, 20.0, 19.0, 18.0, 17.0, 16.0, 15.0, 14.0, 13.0, 12.0, 11.0, 10.0, 9.0, 8.0, 7.0, 6.0, 5.0, 4.0, 3.0, 2.0, 1.0, 1.717, 1.7038, 1.7038, 1.7038, 1.7038, 1.7038, 1.7038, 1.7038, 1.7038, 1.7038, 1.6302, 1.6302, 1.6302, 1.5786, 1.5783, 1.5783, 1.5783, 1.5783, 1.5765, 1.4862, 1.4862, 1.4862, 1.4862, 1.4862, 1.4862, 1.4862, 1.4862, 1.4862, 1.4862, 1.4862, 1.3255, 1.3894, 1.2706, 1.2528, 1.2528, 1.1712, 0.9427, 1.1288, -0.0885, 1.015, 0.8854, -0.2236, 0.7384, 1.4381, 1.4108, 1.3596, 1.3596, 1.3596, 1.3596, 1.3596, 1.3124, 1.3124, 1.3124, 1.3124, 1.3124, 1.3124, 1.3124, 1.3124, 1.3124, 1.3124, 1.3124, 1.3124, 1.3124, 1.3124, 1.3124, 1.228, 1.228, 1.228, 1.228, 1.228, 1.228, 1.228, 1.228, 1.206, 1.1058, 1.1058, 1.0078, 1.0786, -0.0934, 0.9065, 0.6944, 0.3845, 0.8138, 0.3224, -0.1293, -0.4209, 0.5414, 0.76, 0.3962, 0.9366, 0.6, 0.769, 1.3231, 1.3011, 1.3011, 1.285, 1.2393, 1.2393, 1.2393, 1.2393, 1.2393, 1.2393, 1.2393, 1.2393, 1.2393, 1.2393, 1.2393, 1.2393, 1.2393, 1.2393, 1.2393, 1.2393, 1.2393, 1.2393, 1.2393, 1.2393, 1.2393, 1.2393, 1.2393, 1.2393, 1.2389, 1.2106, 1.1745, 1.1485, 1.0206, 0.885, 1.0686, 0.0107, 0.6646, 0.5353, 0.9738, 0.9644, 1.1038, 1.0924, 1.0924, 1.4499, 1.4499, 1.4499, 1.4499, 1.4499, 1.4499, 1.4499, 1.4499, 1.4499, 1.4499, 1.4499, 1.4499, 1.4499, 1.4499, 1.4499, 1.4285, 1.4285, 1.4285, 1.4285, 1.4285, 1.4285, 1.3497, 1.3255, 1.3142, 1.2639, 1.2639, 1.2639, 1.2639, 1.2639, 1.2639, 1.1063, 1.0968, 1.0875, 0.1707, 1.1224, 1.1129, 0.9027, 0.1481, 0.2588, 1.6556, 1.6031, 1.51, 1.51, 1.51, 1.51, 1.51, 1.51, 1.51, 1.51, 1.51, 1.51, 1.51, 1.51, 1.51, 1.51, 1.51, 1.51, 1.51, 1.51, 1.51, 1.51, 1.51, 1.51, 1.51, 1.51, 1.51, 1.51, 1.51, 1.51, 1.4687, 1.3264, 1.4176, 1.3818, -0.0545, 1.0273, 1.1845, 1.1604, 0.3325, 0.9018, 0.8958, 1.002, 1.2071, 1.1898, 0.9707, 0.9707, 1.2259, 0.957, 1.2259, 1.2067, 1.1895, 0.628, 1.2258, 1.202, 1.2257, 0.974, 0.7918, 0.4727]}, \"token.table\": {\"Topic\": [1, 2, 5, 4, 3, 4, 2, 5, 4, 5, 1, 5, 2, 5, 1, 2, 3, 5, 2, 3, 5, 1, 3, 4, 5, 1, 2, 4, 5, 5, 1, 3, 4, 5, 3, 3, 3, 3, 5, 3, 5, 5, 1, 3, 4, 1, 2, 3, 1, 1, 2, 4, 3, 5, 2, 1, 5, 4, 3, 5, 2, 4, 1, 2, 3, 4, 2, 3, 1, 2, 5, 2, 2, 1, 3, 4, 5, 3, 1, 4, 5, 2, 2, 4, 3, 2, 3, 5, 5, 1, 5, 1, 2, 4, 5, 4, 4, 5, 1, 5, 2, 4, 3, 2, 2, 1, 2, 3, 4, 2, 5, 1, 4, 5, 2, 3, 3, 4, 4, 2, 4, 1, 4, 3, 2, 1, 2, 1, 1, 1, 1, 1, 1, 2, 3, 4, 5, 3, 4, 5, 5, 3, 5, 3, 4, 5, 2, 2, 3, 2, 4, 4, 4, 4, 5, 5, 2, 1, 1, 2, 3, 4, 5, 1, 2, 4, 5, 2, 2, 2, 1, 2, 3, 5, 1, 2, 5, 2, 3, 4, 5, 1, 2, 4, 5, 2, 3, 5, 5, 4, 1, 4, 1, 4, 1, 3, 4, 2, 5, 1, 2, 1, 5, 3, 4, 3, 4, 3, 4, 3, 4, 1, 3, 4, 5, 1, 2, 5, 5, 1, 3, 2, 4, 5, 4, 4, 1, 2, 3, 4, 5, 1, 1, 5, 1, 2, 5, 1, 1, 3, 4, 5, 4, 4, 5, 3, 1, 2, 4, 3, 4, 1, 2, 5, 5, 1, 2, 3, 1, 3, 3, 5, 1, 3, 1, 3, 3, 4, 1, 5, 1, 1, 3, 4, 5, 2, 2, 2, 3, 5, 3, 2, 4, 5, 3, 5, 5, 2, 2, 4, 4, 1, 3, 4, 5, 2, 3, 4, 5, 2, 1, 1, 2, 3, 3, 3, 3, 3, 3, 2, 2, 5, 4, 2, 4, 5, 4, 2, 2, 3, 1, 2, 3, 4, 1, 2, 4, 1, 5, 1, 1], \"Freq\": [0.2582639153697887, 0.2582639153697887, 0.2582639153697887, 0.7485112828412314, 0.9457610560324227, 0.8551492347881761, 0.38919050094139884, 0.38919050094139884, 0.8551492479562514, 0.5296523562836049, 0.39854417087157223, 0.39854417087157223, 0.7395688145283877, 0.5296523581661293, 0.4068254952901776, 0.3051191214676332, 0.2034127476450888, 0.0508531869112722, 0.30457347890660685, 0.30457347890660685, 0.30457347890660685, 0.7750058249004175, 0.2583352749668058, 0.5002040947082782, 0.5296523786883248, 0.7987629086988276, 0.29849014074979474, 0.5969802814995895, 0.5296523522941761, 0.5296523884013259, 0.18114844973947758, 0.7245937989579103, 0.18114844973947758, 0.5296523446415322, 0.9457609874703431, 0.897574624277503, 0.9676138239191001, 0.38434014894382534, 0.38434014894382534, 0.3843470646417932, 0.3843470646417932, 0.9627546180713543, 0.11001195844087851, 0.7700837090861495, 0.11001195844087851, 0.3007142514377351, 0.6014285028754702, 0.9457609053432587, 0.7926063475546162, 0.1514891390118909, 0.1514891390118909, 0.6059565560475636, 0.9457609173228944, 0.5296523129744, 0.8860787789102526, 0.7987629583704081, 0.5296523158122963, 0.8551492628260036, 0.8258508479537136, 0.2064627119884284, 0.7386417108799358, 0.14772834217598715, 0.7031039331602789, 0.17577598329006972, 0.8165071123478014, 0.20412677808695034, 0.8860787548280955, 0.9457609496078466, 0.7987629131528278, 0.9817710586820023, 0.529652377282848, 0.739568810716397, 0.7395688145283877, 0.525702971463164, 0.7183103174138159, 0.17957757935345398, 0.5296523425842934, 0.9457610079622802, 0.5257030247992031, 0.5002041154352455, 0.5296523274963141, 0.7395688145283877, 0.739568810716397, 0.7485112828412314, 0.9457609053432587, 0.5631090895265384, 0.18770302984217946, 0.18770302984217946, 0.5296523725825462, 0.39854377906532457, 0.39854377906532457, 0.3418086517694542, 0.3418086517694542, 0.1709043258847271, 0.1709043258847271, 0.8551492996059529, 0.3909926201409806, 0.3909926201409806, 0.3985436206912006, 0.3985436206912006, 0.2975387907523627, 0.5950775815047255, 0.9457610039092449, 0.739568810716397, 0.739568810716397, 0.5257029542500005, 0.3626091811103375, 0.3626091811103375, 0.18130459055516876, 0.7395688145283877, 0.5296523159186747, 0.31461521093946904, 0.31461521093946904, 0.31461521093946904, 0.5851185987837256, 0.2925592993918628, 0.36499454986378016, 0.5474918247956703, 0.8551492206950402, 0.8860787447970802, 0.8551492273533002, 0.18872470847615286, 0.7548988339046114, 0.9457609335619772, 0.7395688145283877, 0.9540690526360567, 0.739568810716397, 0.9540690458233997, 0.7926063402968682, 0.7926063402968682, 0.7926063461443418, 0.9540691274999802, 0.5151898516673197, 0.17172995055577323, 0.17172995055577323, 0.17172995055577323, 0.17172995055577323, 0.9457610865812526, 0.8551492624315701, 0.5296523160250531, 0.5296523129744, 0.9457610142378953, 0.5296523638158263, 0.1563273167466026, 0.1563273167466026, 0.6253092669864104, 0.49435125694559245, 0.6232536463873892, 0.4155024309249261, 0.18660377928746835, 0.7464151171498734, 0.7485112828412314, 0.749407594853698, 0.8551492298315924, 0.5296523683629984, 0.5296523211410122, 0.4943512535396239, 0.798762948107255, 0.1502091810228104, 0.20027890803041384, 0.25869358953928456, 0.2503486350380173, 0.1502091810228104, 0.1962675059508642, 0.1962675059508642, 0.1962675059508642, 0.3925350119017284, 0.886078801113978, 0.494351244340759, 0.4943512535396239, 0.5174239276937592, 0.1293559819234398, 0.2587119638468796, 0.1293559819234398, 0.7987629213832524, 0.5135456565339039, 0.5135456565339039, 0.42536576140001997, 0.21268288070000999, 0.21268288070000999, 0.21268288070000999, 0.30071388733292315, 0.6014277746658463, 0.3909986049127109, 0.3909986049127109, 0.49435125470739294, 0.9457610312474038, 0.5296523638158263, 0.7993462015825968, 0.500204091142956, 0.7987629286770712, 0.8551492752174641, 0.7509279488537863, 0.16687287752306362, 0.52570295572262, 0.29562871482244346, 0.5912574296448869, 0.2430057045977546, 0.7290171137932638, 0.5145470988349811, 0.4116376790679848, 0.3202744483103572, 0.6405488966207143, 0.8164892926407312, 0.2041223231601828, 0.7149458179409723, 0.2599802974330809, 0.9457610014465871, 0.8551492793974329, 0.9417618946439399, 0.855149281875725, 0.21919430513806146, 0.21919430513806146, 0.21919430513806146, 0.21919430513806146, 0.26284534985003793, 0.26284534985003793, 0.5256906997000759, 0.5296524087513169, 0.5257029656186496, 0.8533589995452829, 0.3087378600154035, 0.3087378600154035, 0.3087378600154035, 0.5002041025192793, 0.8551493102957375, 0.14944731517823925, 0.14944731517823925, 0.44834194553471773, 0.049815771726079754, 0.19926308690431901, 0.7987629330130578, 0.3201904584135223, 0.6403809168270446, 0.2538411057391996, 0.5076822114783992, 0.2538411057391996, 0.5257029857784473, 0.14392549345594513, 0.7196274672797257, 0.14392549345594513, 0.5296523586499982, 0.8551492645276803, 0.3098660343113679, 0.3098660343113679, 0.9457610574146749, 0.5257029505161029, 0.739568810716397, 0.8551492496579279, 0.8975746564274288, 0.7485112828412314, 0.39630069590191913, 0.19815034795095957, 0.39630069590191913, 0.5296523581661293, 0.8882809245204926, 0.7395688145283877, 0.9457609432787726, 0.5257029603864053, 0.9457610156890663, 0.9457610076886825, 0.5296523271901514, 0.5087018278071745, 0.3815263708553809, 0.5087018329016292, 0.3815263746762219, 0.9457610513617477, 0.8551492628260036, 0.5257029566577099, 0.5296523210346339, 0.798762917477313, 0.5772424622734994, 0.19241415409116644, 0.19241415409116644, 0.5296524112561081, 0.4943512535396239, 0.886078875314867, 0.2565914293107927, 0.2565914293107927, 0.5131828586215854, 0.9457610194160443, 0.4294134879980645, 0.21470674399903225, 0.21470674399903225, 0.9457610373855022, 0.5296523483839086, 0.5296523637188159, 0.739568810716397, 0.7395687939785209, 0.5002041059617971, 0.7485112828412314, 0.5995498105092087, 0.23981992420368348, 0.11990996210184174, 0.11990996210184174, 0.20035654629468952, 0.5008913657367238, 0.2504456828683619, 0.05008913657367238, 0.494351259609489, 0.7987629361004053, 0.08454965557313374, 0.33819862229253495, 0.5918475890119361, 0.9457610186572846, 0.9457609904001766, 0.9457610217524658, 0.9457610516593157, 0.9457748316979059, 0.4943512228455813, 0.7395688183789457, 0.5296523129744, 0.5002040856631423, 0.3087380759251803, 0.3087380759251803, 0.3087380759251803, 0.7485112828412314, 0.8423616963153178, 0.09443315578670868, 0.849898402080378, 0.14782957401232683, 0.29565914802465365, 0.29565914802465365, 0.14782957401232683, 0.1501145187006929, 0.1501145187006929, 0.6004580748027716, 0.3985439536521203, 0.3985439536521203, 0.5257029745730675, 0.5257029569054533], \"Term\": [\"2\", \"2\", \"2\", \"2011\", \"2017\", \"2021\", \"act\", \"act\", \"addict\", \"allah\", \"also\", \"also\", \"amazon\", \"amina\", \"amp\", \"amp\", \"amp\", \"amp\", \"animal\", \"animal\", \"animal\", \"anything\", \"anything\", \"aoc\", \"argument\", \"article\", \"back\", \"back\", \"barbarism\", \"believed\", \"benue\", \"benue\", \"benue\", \"bestbookever\", \"biafraexit\", \"biafraland\", \"biafrans\", \"book\", \"book\", \"brother\", \"brother\", \"brotherhood\", \"buhari\", \"buhari\", \"buhari\", \"called\", \"called\", \"callevilevil\", \"canada\", \"canadian\", \"canadian\", \"canadian\", \"canadianpm\", \"cancer\", \"can\\u2019t\", \"capitalist\", \"carolinemyss\", \"cdnpoli\", \"charge\", \"charge\", \"child\", \"child\", \"christian\", \"christian\", \"citizen\", \"citizen\", \"city\", \"cnni\", \"communist\", \"compassion\", \"condones\", \"coronavirus\", \"crematorium\", \"data\", \"dead\", \"dead\", \"deeply\", \"died\", \"different\", \"dollar\", \"earth\", \"enjoy\", \"enormous\", \"episode\", \"eu\", \"even\", \"even\", \"even\", \"excuse\", \"faith\", \"faith\", \"family\", \"family\", \"family\", \"family\", \"federal\", \"first\", \"first\", \"follow\", \"follow\", \"free\", \"free\", \"fulani\", \"full\", \"funeral\", \"genoside\", \"get\", \"get\", \"get\", \"getting\", \"gettingtopeace\", \"go\", \"go\", \"go\", \"good\", \"good\", \"government\", \"government\", \"healthminister\", \"help\", \"heroinhandouts\", \"history\", \"history\", \"hope\", \"httpstcobw7ptwc5hx\", \"httpstcogsd1szcatt\", \"httpstcojtotblkkxt\", \"httpstcomlivsewncd\", \"httpstcooxnlm0m5qg\", \"httpstcorrok9wvuqy\", \"httpstcouen5r84ivo\", \"httpstcowjbe8heeqb\", \"human\", \"human\", \"human\", \"human\", \"human\", \"hyperrealityfacemask\", \"hypocritehajdu\", \"imagine\", \"immune\", \"imposter\", \"infused\", \"innocent\", \"innocent\", \"innocent\", \"instagram\", \"it\", \"it\", \"it\\u2019s\", \"it\\u2019s\", \"ive\", \"i\\u2019m\", \"june\", \"just\", \"justsayno\", \"kansa\", \"killed\", \"killing\", \"killing\", \"killing\", \"killing\", \"killing\", \"know\", \"know\", \"know\", \"know\", \"lack\", \"lead\", \"lengthy\", \"like\", \"like\", \"like\", \"like\", \"loveofjesus\", \"make\", \"make\", \"man\", \"man\", \"man\", \"man\", \"many\", \"many\", \"matter\", \"matter\", \"may\", \"mbuhari\", \"mean\", \"medium\", \"mercy\", \"merger\", \"midtowntosafety\", \"million\", \"million\", \"moblynching\", \"money\", \"money\", \"murder\", \"murder\", \"muslim\", \"muslim\", \"must\", \"must\", \"netanyahu\", \"netanyahu\", \"nigeria\", \"nigeria\", \"nigeriagov\", \"nofreeheroin\", \"northern\", \"nosis\", \"now\", \"now\", \"now\", \"now\", \"one\", \"one\", \"one\", \"operation\", \"organize\", \"oyo\", \"palestine\", \"palestine\", \"palestine\", \"palestinian\", \"pattyhajdu\", \"people\", \"people\", \"people\", \"people\", \"people\", \"philosophy\", \"planet\", \"planet\", \"police\", \"police\", \"police\", \"possible\", \"potus\", \"potus\", \"potus\", \"random\", \"rehabnotneedles\", \"religion\", \"religion\", \"representing\", \"resists\", \"rise\", \"roehamptonshelter\", \"running\", \"s01\", \"said\", \"said\", \"said\", \"sarah\", \"say\", \"scale\", \"seeing\", \"seeking\", \"silent\", \"since\", \"sister\", \"sponsored\", \"sponsored\", \"spread\", \"spread\", \"statedept\", \"stopkillingaddicts\", \"subpoena\", \"sundayvibes\", \"superiority\", \"support\", \"support\", \"support\", \"taliban\", \"term\", \"terrorism\", \"that\", \"that\", \"that\", \"theyre\", \"thing\", \"thing\", \"thing\", \"thisisnot1967\", \"tolerates\", \"tradition\", \"tragedy\", \"trait\", \"truly\", \"tvtime\", \"two\", \"two\", \"two\", \"two\", \"u\", \"u\", \"u\", \"u\", \"uber\", \"uk\", \"un\", \"un\", \"un\", \"unknowngovernment\", \"unknowngunmen\", \"unknownpolicemen\", \"unknownsoldiers\", \"usinnigeria\", \"victim\", \"violence\", \"virus\", \"voice\", \"war\", \"war\", \"war\", \"watched\", \"wave\", \"woman\", \"woman\", \"world\", \"world\", \"world\", \"world\", \"worst\", \"worst\", \"worst\", \"wrong\", \"wrong\", \"\\u270d\\ufe0f\", \"\\ud83c\\uddee\\ud83c\\uddf3\"]}, \"R\": 30, \"lambda.step\": 0.01, \"plot.opts\": {\"xlab\": \"PC1\", \"ylab\": \"PC2\"}, \"topic.order\": [1, 2, 3, 4, 5]};\n",
              "\n",
              "function LDAvis_load_lib(url, callback){\n",
              "  var s = document.createElement('script');\n",
              "  s.src = url;\n",
              "  s.async = true;\n",
              "  s.onreadystatechange = s.onload = callback;\n",
              "  s.onerror = function(){console.warn(\"failed to load library \" + url);};\n",
              "  document.getElementsByTagName(\"head\")[0].appendChild(s);\n",
              "}\n",
              "\n",
              "if(typeof(LDAvis) !== \"undefined\"){\n",
              "   // already loaded: just create the visualization\n",
              "   !function(LDAvis){\n",
              "       new LDAvis(\"#\" + \"ldavis_el5181405811751113762835296044\", ldavis_el5181405811751113762835296044_data);\n",
              "   }(LDAvis);\n",
              "}else if(typeof define === \"function\" && define.amd){\n",
              "   // require.js is available: use it to load d3/LDAvis\n",
              "   require.config({paths: {d3: \"https://d3js.org/d3.v5\"}});\n",
              "   require([\"d3\"], function(d3){\n",
              "      window.d3 = d3;\n",
              "      LDAvis_load_lib(\"https://cdn.jsdelivr.net/gh/bmabey/pyLDAvis@3.3.1/pyLDAvis/js/ldavis.v3.0.0.js\", function(){\n",
              "        new LDAvis(\"#\" + \"ldavis_el5181405811751113762835296044\", ldavis_el5181405811751113762835296044_data);\n",
              "      });\n",
              "    });\n",
              "}else{\n",
              "    // require.js not available: dynamically load d3 & LDAvis\n",
              "    LDAvis_load_lib(\"https://d3js.org/d3.v5.js\", function(){\n",
              "         LDAvis_load_lib(\"https://cdn.jsdelivr.net/gh/bmabey/pyLDAvis@3.3.1/pyLDAvis/js/ldavis.v3.0.0.js\", function(){\n",
              "                 new LDAvis(\"#\" + \"ldavis_el5181405811751113762835296044\", ldavis_el5181405811751113762835296044_data);\n",
              "            })\n",
              "         });\n",
              "}\n",
              "</script>"
            ],
            "text/plain": [
              "<IPython.core.display.HTML object>"
            ]
          },
          "metadata": {
            "tags": []
          },
          "execution_count": 40
        }
      ]
    },
    {
      "cell_type": "code",
      "metadata": {
        "id": "3FAAwl4hSxqT"
      },
      "source": [
        "# assign the topics to the documents in corpus\n",
        "lda_corpus = ldamodel[doc_term_matrix]"
      ],
      "execution_count": null,
      "outputs": []
    },
    {
      "cell_type": "code",
      "metadata": {
        "id": "ZlBWASYCTnlO"
      },
      "source": [
        "#[doc for doc in lda_corpus]"
      ],
      "execution_count": null,
      "outputs": []
    },
    {
      "cell_type": "code",
      "metadata": {
        "colab": {
          "base_uri": "https://localhost:8080/"
        },
        "id": "L8pFoJpLTqYr",
        "outputId": "6491082c-97b1-4b85-fb37-c107d6dc5375"
      },
      "source": [
        "scores = list(chain(*[[score for topic_id, score in topic] \\\n",
        "                      for topic in [doc for doc in lda_corpus]]))\n",
        "\n",
        "threshold = sum(scores)/len(scores)\n",
        "print(threshold)"
      ],
      "execution_count": null,
      "outputs": [
        {
          "output_type": "stream",
          "text": [
            "0.19999999932323892\n"
          ],
          "name": "stdout"
        }
      ]
    },
    {
      "cell_type": "code",
      "metadata": {
        "colab": {
          "base_uri": "https://localhost:8080/"
        },
        "id": "cvmDIEweUEbO",
        "outputId": "4ab3d776-8b13-4721-f6b9-6f0deb49eb08"
      },
      "source": [
        "cluster1 = [j for i,j in zip(lda_corpus, sample_tweet_df.index) if i[0][1] > threshold]\n",
        "cluster2 = [j for i,j in zip(lda_corpus, sample_tweet_df.index) if i[1][1] > threshold]\n",
        "cluster3 = [j for i,j in zip(lda_corpus, sample_tweet_df.index) if i[2][1] > threshold]\n",
        "cluster4 = [j for i,j in zip(lda_corpus, sample_tweet_df.index) if i[3][1] > threshold]\n",
        "cluster5 = [j for i,j in zip(lda_corpus, sample_tweet_df.index) if i[4][1] > threshold]\n",
        "\n",
        "print(len(cluster1))\n",
        "print(len(cluster2))\n",
        "print(len(cluster3))\n",
        "print(len(cluster4))\n",
        "print(len(cluster5))"
      ],
      "execution_count": null,
      "outputs": [
        {
          "output_type": "stream",
          "text": [
            "25\n",
            "32\n",
            "34\n",
            "36\n",
            "25\n"
          ],
          "name": "stdout"
        }
      ]
    },
    {
      "cell_type": "code",
      "metadata": {
        "colab": {
          "base_uri": "https://localhost:8080/",
          "height": 833
        },
        "id": "JC3s040UUznF",
        "outputId": "36a72a70-1919-4280-b6ef-e57695e2bf39"
      },
      "source": [
        "# view cluster 1 in the sample_tweet_df\n",
        "sample_tweet_df.iloc[cluster1]"
      ],
      "execution_count": null,
      "outputs": [
        {
          "output_type": "execute_result",
          "data": {
            "text/html": [
              "<div>\n",
              "<style scoped>\n",
              "    .dataframe tbody tr th:only-of-type {\n",
              "        vertical-align: middle;\n",
              "    }\n",
              "\n",
              "    .dataframe tbody tr th {\n",
              "        vertical-align: top;\n",
              "    }\n",
              "\n",
              "    .dataframe thead th {\n",
              "        text-align: right;\n",
              "    }\n",
              "</style>\n",
              "<table border=\"1\" class=\"dataframe\">\n",
              "  <thead>\n",
              "    <tr style=\"text-align: right;\">\n",
              "      <th></th>\n",
              "      <th>text</th>\n",
              "      <th>text_clean</th>\n",
              "    </tr>\n",
              "  </thead>\n",
              "  <tbody>\n",
              "    <tr>\n",
              "      <th>9</th>\n",
              "      <td>@ShivAroor we live in a world where #Modi is c...</td>\n",
              "      <td>[shivaroor, live, world, modi, called, dictato...</td>\n",
              "    </tr>\n",
              "    <tr>\n",
              "      <th>11</th>\n",
              "      <td>@MarianneSansum @frederickone OH! I don't know...</td>\n",
              "      <td>[mariannesansum, frederickone, oh, know, owner...</td>\n",
              "    </tr>\n",
              "    <tr>\n",
              "      <th>15</th>\n",
              "      <td>Like #Christians #killing millions to spread #...</td>\n",
              "      <td>[like, christian, killing, million, spread, lo...</td>\n",
              "    </tr>\n",
              "    <tr>\n",
              "      <th>26</th>\n",
              "      <td>Like #Christians #killing millions to spread #...</td>\n",
              "      <td>[like, christian, killing, million, spread, lo...</td>\n",
              "    </tr>\n",
              "    <tr>\n",
              "      <th>38</th>\n",
              "      <td>One million Indian troops are engaged in #kill...</td>\n",
              "      <td>[one, million, indian, troop, engaged, killing...</td>\n",
              "    </tr>\n",
              "    <tr>\n",
              "      <th>39</th>\n",
              "      <td>I strongly condemn the brutal killing of a #Ca...</td>\n",
              "      <td>[strongly, condemn, brutal, killing, canadian,...</td>\n",
              "    </tr>\n",
              "    <tr>\n",
              "      <th>44</th>\n",
              "      <td>Canada condemns 'targeted' killing of Muslim f...</td>\n",
              "      <td>[canada, condemns, targeted, killing, muslim, ...</td>\n",
              "    </tr>\n",
              "    <tr>\n",
              "      <th>56</th>\n",
              "      <td>#Killing of Canadian Muslim family with truck ...</td>\n",
              "      <td>[killing, canadian, muslim, family, truck, hat...</td>\n",
              "    </tr>\n",
              "    <tr>\n",
              "      <th>57</th>\n",
              "      <td>Like #Christians #killing millions to spread #...</td>\n",
              "      <td>[like, christian, killing, million, spread, lo...</td>\n",
              "    </tr>\n",
              "    <tr>\n",
              "      <th>69</th>\n",
              "      <td>It's also #Ohio. What the heck is wrong with t...</td>\n",
              "      <td>[also, ohio, heck, wrong, people, state, alway...</td>\n",
              "    </tr>\n",
              "    <tr>\n",
              "      <th>72</th>\n",
              "      <td>#KyeePin Village, #Pale Township, #Sagaing \\n#...</td>\n",
              "      <td>[kyeepin, village, pale, township, sagaing, fi...</td>\n",
              "    </tr>\n",
              "    <tr>\n",
              "      <th>73</th>\n",
              "      <td>Two express #trains have collided in southern ...</td>\n",
              "      <td>[two, express, train, collided, southern, paki...</td>\n",
              "    </tr>\n",
              "    <tr>\n",
              "      <th>75</th>\n",
              "      <td>@Ssaniya_ I said it already about #Genoside.\\n...</td>\n",
              "      <td>[ssaniya, said, already, genoside, take, flag,...</td>\n",
              "    </tr>\n",
              "    <tr>\n",
              "      <th>78</th>\n",
              "      <td>I said it already about #Genoside.\\n\\nWhen you...</td>\n",
              "      <td>[said, already, genoside, take, flag, 🇮🇳, rall...</td>\n",
              "    </tr>\n",
              "    <tr>\n",
              "      <th>83</th>\n",
              "      <td>Like #Christians #killing millions to spread #...</td>\n",
              "      <td>[like, christian, killing, million, spread, lo...</td>\n",
              "    </tr>\n",
              "    <tr>\n",
              "      <th>96</th>\n",
              "      <td>#KILLING \\n'.. Humans love killing each other ...</td>\n",
              "      <td>[killing, human, love, killing, name, god]</td>\n",
              "    </tr>\n",
              "    <tr>\n",
              "      <th>100</th>\n",
              "      <td>How many members of @HQNigerianArmy have been ...</td>\n",
              "      <td>[many, member, hqnigerianarmy, deployed, benue...</td>\n",
              "    </tr>\n",
              "    <tr>\n",
              "      <th>101</th>\n",
              "      <td>Like #Christians #killing millions to spread #...</td>\n",
              "      <td>[like, christian, killing, million, spread, lo...</td>\n",
              "    </tr>\n",
              "    <tr>\n",
              "      <th>103</th>\n",
              "      <td>So much #cruelty #suffering #abuse #torture #e...</td>\n",
              "      <td>[much, cruelty, suffering, abuse, torture, evi...</td>\n",
              "    </tr>\n",
              "    <tr>\n",
              "      <th>104</th>\n",
              "      <td>the Nigeria #government are #killing their #ci...</td>\n",
              "      <td>[nigeria, government, killing, citizen, everyd...</td>\n",
              "    </tr>\n",
              "    <tr>\n",
              "      <th>126</th>\n",
              "      <td>USA Today resists FBI subpoena seeking data of...</td>\n",
              "      <td>[usa, today, resists, fbi, subpoena, seeking, ...</td>\n",
              "    </tr>\n",
              "    <tr>\n",
              "      <th>129</th>\n",
              "      <td>Like #Christians #killing millions to spread #...</td>\n",
              "      <td>[like, christian, killing, million, spread, lo...</td>\n",
              "    </tr>\n",
              "    <tr>\n",
              "      <th>130</th>\n",
              "      <td>Now i know  Buhari and his administration are ...</td>\n",
              "      <td>[know, buhari, administration, cluelesstaking,...</td>\n",
              "    </tr>\n",
              "    <tr>\n",
              "      <th>132</th>\n",
              "      <td>Like #Christians #killing millions to spread #...</td>\n",
              "      <td>[like, christian, killing, million, spread, lo...</td>\n",
              "    </tr>\n",
              "    <tr>\n",
              "      <th>140</th>\n",
              "      <td>@herschelrescue resorts to being a bully becau...</td>\n",
              "      <td>[herschelrescue, resort, bully, fear, incompet...</td>\n",
              "    </tr>\n",
              "  </tbody>\n",
              "</table>\n",
              "</div>"
            ],
            "text/plain": [
              "                                                  text                                         text_clean\n",
              "9    @ShivAroor we live in a world where #Modi is c...  [shivaroor, live, world, modi, called, dictato...\n",
              "11   @MarianneSansum @frederickone OH! I don't know...  [mariannesansum, frederickone, oh, know, owner...\n",
              "15   Like #Christians #killing millions to spread #...  [like, christian, killing, million, spread, lo...\n",
              "26   Like #Christians #killing millions to spread #...  [like, christian, killing, million, spread, lo...\n",
              "38   One million Indian troops are engaged in #kill...  [one, million, indian, troop, engaged, killing...\n",
              "39   I strongly condemn the brutal killing of a #Ca...  [strongly, condemn, brutal, killing, canadian,...\n",
              "44   Canada condemns 'targeted' killing of Muslim f...  [canada, condemns, targeted, killing, muslim, ...\n",
              "56   #Killing of Canadian Muslim family with truck ...  [killing, canadian, muslim, family, truck, hat...\n",
              "57   Like #Christians #killing millions to spread #...  [like, christian, killing, million, spread, lo...\n",
              "69   It's also #Ohio. What the heck is wrong with t...  [also, ohio, heck, wrong, people, state, alway...\n",
              "72   #KyeePin Village, #Pale Township, #Sagaing \\n#...  [kyeepin, village, pale, township, sagaing, fi...\n",
              "73   Two express #trains have collided in southern ...  [two, express, train, collided, southern, paki...\n",
              "75   @Ssaniya_ I said it already about #Genoside.\\n...  [ssaniya, said, already, genoside, take, flag,...\n",
              "78   I said it already about #Genoside.\\n\\nWhen you...  [said, already, genoside, take, flag, 🇮🇳, rall...\n",
              "83   Like #Christians #killing millions to spread #...  [like, christian, killing, million, spread, lo...\n",
              "96   #KILLING \\n'.. Humans love killing each other ...         [killing, human, love, killing, name, god]\n",
              "100  How many members of @HQNigerianArmy have been ...  [many, member, hqnigerianarmy, deployed, benue...\n",
              "101  Like #Christians #killing millions to spread #...  [like, christian, killing, million, spread, lo...\n",
              "103  So much #cruelty #suffering #abuse #torture #e...  [much, cruelty, suffering, abuse, torture, evi...\n",
              "104  the Nigeria #government are #killing their #ci...  [nigeria, government, killing, citizen, everyd...\n",
              "126  USA Today resists FBI subpoena seeking data of...  [usa, today, resists, fbi, subpoena, seeking, ...\n",
              "129  Like #Christians #killing millions to spread #...  [like, christian, killing, million, spread, lo...\n",
              "130  Now i know  Buhari and his administration are ...  [know, buhari, administration, cluelesstaking,...\n",
              "132  Like #Christians #killing millions to spread #...  [like, christian, killing, million, spread, lo...\n",
              "140  @herschelrescue resorts to being a bully becau...  [herschelrescue, resort, bully, fear, incompet..."
            ]
          },
          "metadata": {
            "tags": []
          },
          "execution_count": 45
        }
      ]
    },
    {
      "cell_type": "code",
      "metadata": {
        "id": "Lb_HYpEsU5V0"
      },
      "source": [
        "# view cluster 2 in the sample_tweet_df\n",
        "sample_tweet_df.iloc[cluster2]"
      ],
      "execution_count": null,
      "outputs": []
    },
    {
      "cell_type": "code",
      "metadata": {
        "id": "odbxSyo2VRf1"
      },
      "source": [
        "# view cluster 3 in the sample_tweet_df\n",
        "sample_tweet_df.iloc[cluster3]"
      ],
      "execution_count": null,
      "outputs": []
    },
    {
      "cell_type": "code",
      "metadata": {
        "id": "OYE8D5UtVaaf"
      },
      "source": [
        "# view cluster 4 in the sample_tweet_df\n",
        "sample_tweet_df.iloc[cluster4]"
      ],
      "execution_count": null,
      "outputs": []
    },
    {
      "cell_type": "code",
      "metadata": {
        "id": "74sVjmMWWiET"
      },
      "source": [
        "# view cluster 5 in the sample_tweet_df\n",
        "sample_tweet_df.iloc[cluster5]"
      ],
      "execution_count": null,
      "outputs": []
    },
    {
      "cell_type": "markdown",
      "metadata": {
        "id": "3c1WCmdQIsjU"
      },
      "source": [
        "## **Feature Engineering:** Extracting the @mention and #tags to identify & interpret the cluster of Topics "
      ]
    },
    {
      "cell_type": "code",
      "metadata": {
        "id": "HaXmZs0gI-Ih"
      },
      "source": [
        "# A function to pull @mentions and #tags from Tweets\n",
        "def pull_mention_n_tags(message):\n",
        "    '''\n",
        "    This function takes a tweet message as the argument\n",
        "    and it pulls the @mentions and #tags\n",
        "    which are gathered into separate output list: \n",
        "        output_at_word - i.e. @mentions\n",
        "        output_hash_word - i.e. #tags\n",
        "    '''\n",
        "    output_at_word = []\n",
        "    output_hash_word = []\n",
        "    \n",
        "    # loop through the words in message to pull @word and #word\n",
        "    for word in message.split():\n",
        "        at_word = re.findall('[@].+', word)\n",
        "        hash_word = re.findall('[#].+', word)\n",
        "        \n",
        "        # conditional statement to gather @word to the list output_at_word\n",
        "        if len(at_word) > 0:\n",
        "            output_at_word += at_word\n",
        "        # 2nd conditional statement to gather #word to the list output_hash_word\n",
        "        elif len(hash_word) > 0:\n",
        "            output_hash_word += hash_word\n",
        "            \n",
        "    # return the 2 outputs\n",
        "    return output_at_word, output_hash_word"
      ],
      "execution_count": null,
      "outputs": []
    }
  ]
}